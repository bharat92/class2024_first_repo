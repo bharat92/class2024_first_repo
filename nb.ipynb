{
 "cells": [
  {
   "cell_type": "markdown",
   "metadata": {},
   "source": [
    "## Sample Notebook"
   ]
  },
  {
   "cell_type": "code",
   "execution_count": 3,
   "metadata": {},
   "outputs": [],
   "source": [
    "import matplotlib.pyplot as plt\n",
    "import pandas as pd"
   ]
  },
  {
   "cell_type": "code",
   "execution_count": 1,
   "metadata": {},
   "outputs": [],
   "source": [
    "from ipywidgets import widgets"
   ]
  },
  {
   "cell_type": "code",
   "execution_count": 4,
   "metadata": {},
   "outputs": [],
   "source": [
    "ipyexp_data = pd.DataFrame({\n",
    "        \"Symbol\": ['A', 'B', 'C'],\n",
    "        'ror': [1.3,1.2,1.1],\n",
    "        \"infl\" : [1,2,3]\n",
    "})"
   ]
  },
  {
   "cell_type": "code",
   "execution_count": 5,
   "metadata": {},
   "outputs": [],
   "source": [
    "def scatter_plotting(symbol=\"A\"):\n",
    "    plt.figure(figsize=(8, 5))\n",
    "    plt.scatter(ipyexp_data[ipyexp_data[\"Symbol\"] == symbol][\"ror\"],\n",
    "                ipyexp_data[ipyexp_data[\"Symbol\"] == symbol][\"infl\"])\n",
    "    plt.xlabel(\"ROR (by month)\")\n",
    "    plt.ylabel(\"infl\")\n",
    "    plt.title(f\"Scatter Plot of ROR by {rate} for {symbol}\")"
   ]
  },
  {
   "cell_type": "code",
   "execution_count": 7,
   "metadata": {},
   "outputs": [],
   "source": [
    "companies = ['A', 'B','C']"
   ]
  },
  {
   "cell_type": "code",
   "execution_count": 8,
   "metadata": {},
   "outputs": [],
   "source": [
    "drop1 = widgets.Dropdown(description = \"Ticker\", options = companies, index = 0)\n",
    "scatter_chart = widgets.interactive_output(scatter_plotting, {\"symbol\": drop1,})"
   ]
  },
  {
   "cell_type": "code",
   "execution_count": 11,
   "metadata": {},
   "outputs": [
    {
     "data": {
      "application/vnd.jupyter.widget-view+json": {
       "model_id": "c8fda869caea47f68821538eaebb30af",
       "version_major": 2,
       "version_minor": 0
      },
      "text/plain": [
       "VBox(children=(HBox(children=(Dropdown(description='Ticker', index=1, options=('A', 'B', 'C'), value='B'), Dro…"
      ]
     },
     "metadata": {},
     "output_type": "display_data"
    }
   ],
   "source": [
    "n_widget = widgets.VBox([widgets.HBox([drop1]),scatter_chart])\n",
    "display(n_widget)"
   ]
  }
 ],
 "metadata": {
  "kernelspec": {
   "display_name": "class_feb_2024",
   "language": "python",
   "name": "python3"
  },
  "language_info": {
   "codemirror_mode": {
    "name": "ipython",
    "version": 3
   },
   "file_extension": ".py",
   "mimetype": "text/x-python",
   "name": "python",
   "nbconvert_exporter": "python",
   "pygments_lexer": "ipython3",
   "version": "3.10.14"
  }
 },
 "nbformat": 4,
 "nbformat_minor": 2
}
